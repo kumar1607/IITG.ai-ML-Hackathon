{
 "cells": [
  {
   "cell_type": "code",
   "execution_count": 1,
   "id": "9a9cae26",
   "metadata": {
    "_cell_guid": "b1076dfc-b9ad-4769-8c92-a6c4dae69d19",
    "_uuid": "8f2839f25d086af736a60e9eeb907d3b93b6e0e5",
    "execution": {
     "iopub.execute_input": "2024-06-18T12:18:00.871841Z",
     "iopub.status.busy": "2024-06-18T12:18:00.871293Z",
     "iopub.status.idle": "2024-06-18T12:18:01.911587Z",
     "shell.execute_reply": "2024-06-18T12:18:01.910133Z"
    },
    "papermill": {
     "duration": 1.051416,
     "end_time": "2024-06-18T12:18:01.914214",
     "exception": false,
     "start_time": "2024-06-18T12:18:00.862798",
     "status": "completed"
    },
    "tags": []
   },
   "outputs": [
    {
     "name": "stdout",
     "output_type": "stream",
     "text": [
      "/kaggle/input/week4-practice-hackathon-2024/sample_submission.csv\n",
      "/kaggle/input/week4-practice-hackathon-2024/Train.csv\n",
      "/kaggle/input/week4-practice-hackathon-2024/Test.csv\n"
     ]
    }
   ],
   "source": [
    "# This Python 3 environment comes with many helpful analytics libraries installed\n",
    "# It is defined by the kaggle/python Docker image: https://github.com/kaggle/docker-python\n",
    "# For example, here's several helpful packages to load\n",
    "\n",
    "import numpy as np # linear algebra\n",
    "import pandas as pd # data processing, CSV file I/O (e.g. pd.read_csv)\n",
    "\n",
    "# Input data files are available in the read-only \"../input/\" directory\n",
    "# For example, running this (by clicking run or pressing Shift+Enter) will list all files under the input directory\n",
    "\n",
    "import os\n",
    "for dirname, _, filenames in os.walk('/kaggle/input'):\n",
    "    for filename in filenames:\n",
    "        print(os.path.join(dirname, filename))\n",
    "\n",
    "# You can write up to 20GB to the current directory (/kaggle/working/) that gets preserved as output when you create a version using \"Save & Run All\" \n",
    "# You can also write temporary files to /kaggle/temp/, but they won't be saved outside of the current session"
   ]
  },
  {
   "cell_type": "code",
   "execution_count": 2,
   "id": "4284c118",
   "metadata": {
    "execution": {
     "iopub.execute_input": "2024-06-18T12:18:01.928479Z",
     "iopub.status.busy": "2024-06-18T12:18:01.927941Z",
     "iopub.status.idle": "2024-06-18T12:18:02.285035Z",
     "shell.execute_reply": "2024-06-18T12:18:02.283754Z"
    },
    "papermill": {
     "duration": 0.367762,
     "end_time": "2024-06-18T12:18:02.287949",
     "exception": false,
     "start_time": "2024-06-18T12:18:01.920187",
     "status": "completed"
    },
    "tags": []
   },
   "outputs": [
    {
     "data": {
      "text/html": [
       "<div>\n",
       "<style scoped>\n",
       "    .dataframe tbody tr th:only-of-type {\n",
       "        vertical-align: middle;\n",
       "    }\n",
       "\n",
       "    .dataframe tbody tr th {\n",
       "        vertical-align: top;\n",
       "    }\n",
       "\n",
       "    .dataframe thead th {\n",
       "        text-align: right;\n",
       "    }\n",
       "</style>\n",
       "<table border=\"1\" class=\"dataframe\">\n",
       "  <thead>\n",
       "    <tr style=\"text-align: right;\">\n",
       "      <th></th>\n",
       "      <th>V1</th>\n",
       "      <th>V2</th>\n",
       "      <th>V3</th>\n",
       "      <th>V4</th>\n",
       "      <th>V5</th>\n",
       "      <th>V6</th>\n",
       "      <th>V7</th>\n",
       "      <th>V8</th>\n",
       "      <th>V9</th>\n",
       "      <th>V10</th>\n",
       "      <th>V11</th>\n",
       "      <th>V13</th>\n",
       "      <th>V19</th>\n",
       "      <th>V22</th>\n",
       "      <th>V30</th>\n",
       "      <th>V33</th>\n",
       "      <th>V35</th>\n",
       "      <th>V36</th>\n",
       "      <th>V40</th>\n",
       "      <th>V41</th>\n",
       "      <th>V42</th>\n",
       "      <th>V43</th>\n",
       "      <th>V45</th>\n",
       "      <th>V47</th>\n",
       "      <th>V50</th>\n",
       "      <th>V51</th>\n",
       "      <th>V52</th>\n",
       "      <th>V59</th>\n",
       "      <th>V63</th>\n",
       "      <th>V72</th>\n",
       "      <th>V75</th>\n",
       "      <th>class</th>\n",
       "    </tr>\n",
       "  </thead>\n",
       "  <tbody>\n",
       "    <tr>\n",
       "      <th>0</th>\n",
       "      <td>0.0</td>\n",
       "      <td>1.0</td>\n",
       "      <td>243.0</td>\n",
       "      <td>29</td>\n",
       "      <td>4528.0</td>\n",
       "      <td>138.0</td>\n",
       "      <td>3.0</td>\n",
       "      <td>29</td>\n",
       "      <td>201.0</td>\n",
       "      <td>0.0</td>\n",
       "      <td>3</td>\n",
       "      <td>29.0</td>\n",
       "      <td>7</td>\n",
       "      <td>2</td>\n",
       "      <td>4</td>\n",
       "      <td>0</td>\n",
       "      <td>9</td>\n",
       "      <td>7</td>\n",
       "      <td>4.0</td>\n",
       "      <td>3</td>\n",
       "      <td>14.0</td>\n",
       "      <td>185.0</td>\n",
       "      <td>2</td>\n",
       "      <td>3</td>\n",
       "      <td>71.0</td>\n",
       "      <td>0</td>\n",
       "      <td>0</td>\n",
       "      <td>46.0</td>\n",
       "      <td>1</td>\n",
       "      <td>2</td>\n",
       "      <td>0</td>\n",
       "      <td>1</td>\n",
       "    </tr>\n",
       "    <tr>\n",
       "      <th>1</th>\n",
       "      <td>0.0</td>\n",
       "      <td>20.0</td>\n",
       "      <td>8.0</td>\n",
       "      <td>14</td>\n",
       "      <td>4183.0</td>\n",
       "      <td>183.0</td>\n",
       "      <td>4.0</td>\n",
       "      <td>26</td>\n",
       "      <td>156.0</td>\n",
       "      <td>0.0</td>\n",
       "      <td>2</td>\n",
       "      <td>23.0</td>\n",
       "      <td>3</td>\n",
       "      <td>2</td>\n",
       "      <td>1</td>\n",
       "      <td>3</td>\n",
       "      <td>8</td>\n",
       "      <td>6</td>\n",
       "      <td>9.0</td>\n",
       "      <td>3</td>\n",
       "      <td>5.0</td>\n",
       "      <td>96.0</td>\n",
       "      <td>5</td>\n",
       "      <td>7</td>\n",
       "      <td>20.0</td>\n",
       "      <td>0</td>\n",
       "      <td>2</td>\n",
       "      <td>13.0</td>\n",
       "      <td>9</td>\n",
       "      <td>6</td>\n",
       "      <td>0</td>\n",
       "      <td>1</td>\n",
       "    </tr>\n",
       "    <tr>\n",
       "      <th>2</th>\n",
       "      <td>14.0</td>\n",
       "      <td>2.0</td>\n",
       "      <td>2.0</td>\n",
       "      <td>9</td>\n",
       "      <td>1113.0</td>\n",
       "      <td>15.0</td>\n",
       "      <td>37.0</td>\n",
       "      <td>31</td>\n",
       "      <td>78.0</td>\n",
       "      <td>1.0</td>\n",
       "      <td>3</td>\n",
       "      <td>9.0</td>\n",
       "      <td>4</td>\n",
       "      <td>2</td>\n",
       "      <td>4</td>\n",
       "      <td>3</td>\n",
       "      <td>8</td>\n",
       "      <td>5</td>\n",
       "      <td>16.0</td>\n",
       "      <td>0</td>\n",
       "      <td>3.0</td>\n",
       "      <td>0.0</td>\n",
       "      <td>7</td>\n",
       "      <td>5</td>\n",
       "      <td>11.0</td>\n",
       "      <td>0</td>\n",
       "      <td>0</td>\n",
       "      <td>7.0</td>\n",
       "      <td>9</td>\n",
       "      <td>2</td>\n",
       "      <td>1</td>\n",
       "      <td>0</td>\n",
       "    </tr>\n",
       "    <tr>\n",
       "      <th>3</th>\n",
       "      <td>0.0</td>\n",
       "      <td>175.0</td>\n",
       "      <td>17.0</td>\n",
       "      <td>16</td>\n",
       "      <td>4250.0</td>\n",
       "      <td>68.0</td>\n",
       "      <td>8.0</td>\n",
       "      <td>30</td>\n",
       "      <td>152.0</td>\n",
       "      <td>0.0</td>\n",
       "      <td>5</td>\n",
       "      <td>16.0</td>\n",
       "      <td>7</td>\n",
       "      <td>2</td>\n",
       "      <td>1</td>\n",
       "      <td>2</td>\n",
       "      <td>9</td>\n",
       "      <td>6</td>\n",
       "      <td>0.0</td>\n",
       "      <td>0</td>\n",
       "      <td>8.0</td>\n",
       "      <td>52.0</td>\n",
       "      <td>1</td>\n",
       "      <td>3</td>\n",
       "      <td>0.0</td>\n",
       "      <td>1</td>\n",
       "      <td>1</td>\n",
       "      <td>31.0</td>\n",
       "      <td>6</td>\n",
       "      <td>4</td>\n",
       "      <td>5</td>\n",
       "      <td>1</td>\n",
       "    </tr>\n",
       "    <tr>\n",
       "      <th>4</th>\n",
       "      <td>2.0</td>\n",
       "      <td>-1.0</td>\n",
       "      <td>1.0</td>\n",
       "      <td>3</td>\n",
       "      <td>0.0</td>\n",
       "      <td>0.0</td>\n",
       "      <td>2.0</td>\n",
       "      <td>5</td>\n",
       "      <td>6.0</td>\n",
       "      <td>1.0</td>\n",
       "      <td>1</td>\n",
       "      <td>0.0</td>\n",
       "      <td>4</td>\n",
       "      <td>2</td>\n",
       "      <td>5</td>\n",
       "      <td>3</td>\n",
       "      <td>8</td>\n",
       "      <td>6</td>\n",
       "      <td>6.0</td>\n",
       "      <td>0</td>\n",
       "      <td>6.0</td>\n",
       "      <td>1397.0</td>\n",
       "      <td>1</td>\n",
       "      <td>5</td>\n",
       "      <td>0.0</td>\n",
       "      <td>0</td>\n",
       "      <td>0</td>\n",
       "      <td>2.0</td>\n",
       "      <td>8</td>\n",
       "      <td>0</td>\n",
       "      <td>1</td>\n",
       "      <td>1</td>\n",
       "    </tr>\n",
       "    <tr>\n",
       "      <th>5</th>\n",
       "      <td>1.0</td>\n",
       "      <td>405.0</td>\n",
       "      <td>1.0</td>\n",
       "      <td>4</td>\n",
       "      <td>1573.0</td>\n",
       "      <td>35.0</td>\n",
       "      <td>2.0</td>\n",
       "      <td>9</td>\n",
       "      <td>35.0</td>\n",
       "      <td>0.0</td>\n",
       "      <td>1</td>\n",
       "      <td>4.0</td>\n",
       "      <td>7</td>\n",
       "      <td>2</td>\n",
       "      <td>0</td>\n",
       "      <td>1</td>\n",
       "      <td>9</td>\n",
       "      <td>6</td>\n",
       "      <td>1.0</td>\n",
       "      <td>3</td>\n",
       "      <td>2.0</td>\n",
       "      <td>69.0</td>\n",
       "      <td>1</td>\n",
       "      <td>5</td>\n",
       "      <td>2.0</td>\n",
       "      <td>2</td>\n",
       "      <td>1</td>\n",
       "      <td>195.0</td>\n",
       "      <td>8</td>\n",
       "      <td>1</td>\n",
       "      <td>4</td>\n",
       "      <td>1</td>\n",
       "    </tr>\n",
       "    <tr>\n",
       "      <th>6</th>\n",
       "      <td>2.0</td>\n",
       "      <td>263.0</td>\n",
       "      <td>14.0</td>\n",
       "      <td>13</td>\n",
       "      <td>1248.0</td>\n",
       "      <td>57.0</td>\n",
       "      <td>2.0</td>\n",
       "      <td>49</td>\n",
       "      <td>49.0</td>\n",
       "      <td>1.0</td>\n",
       "      <td>1</td>\n",
       "      <td>18.0</td>\n",
       "      <td>7</td>\n",
       "      <td>2</td>\n",
       "      <td>1</td>\n",
       "      <td>0</td>\n",
       "      <td>9</td>\n",
       "      <td>7</td>\n",
       "      <td>20.0</td>\n",
       "      <td>1</td>\n",
       "      <td>15.0</td>\n",
       "      <td>140.0</td>\n",
       "      <td>1</td>\n",
       "      <td>5</td>\n",
       "      <td>111.0</td>\n",
       "      <td>4</td>\n",
       "      <td>1</td>\n",
       "      <td>2.0</td>\n",
       "      <td>6</td>\n",
       "      <td>2</td>\n",
       "      <td>0</td>\n",
       "      <td>1</td>\n",
       "    </tr>\n",
       "    <tr>\n",
       "      <th>7</th>\n",
       "      <td>1.0</td>\n",
       "      <td>3.0</td>\n",
       "      <td>2.0</td>\n",
       "      <td>15</td>\n",
       "      <td>567.0</td>\n",
       "      <td>33.0</td>\n",
       "      <td>4.0</td>\n",
       "      <td>33</td>\n",
       "      <td>61.0</td>\n",
       "      <td>1.0</td>\n",
       "      <td>2</td>\n",
       "      <td>15.0</td>\n",
       "      <td>7</td>\n",
       "      <td>2</td>\n",
       "      <td>1</td>\n",
       "      <td>1</td>\n",
       "      <td>1</td>\n",
       "      <td>6</td>\n",
       "      <td>13.0</td>\n",
       "      <td>3</td>\n",
       "      <td>5.0</td>\n",
       "      <td>0.0</td>\n",
       "      <td>1</td>\n",
       "      <td>3</td>\n",
       "      <td>16.0</td>\n",
       "      <td>3</td>\n",
       "      <td>1</td>\n",
       "      <td>1.0</td>\n",
       "      <td>6</td>\n",
       "      <td>0</td>\n",
       "      <td>1</td>\n",
       "      <td>1</td>\n",
       "    </tr>\n",
       "    <tr>\n",
       "      <th>8</th>\n",
       "      <td>0.0</td>\n",
       "      <td>0.0</td>\n",
       "      <td>24.0</td>\n",
       "      <td>6</td>\n",
       "      <td>1552.0</td>\n",
       "      <td>89.0</td>\n",
       "      <td>1.0</td>\n",
       "      <td>18</td>\n",
       "      <td>23.0</td>\n",
       "      <td>0.0</td>\n",
       "      <td>1</td>\n",
       "      <td>6.0</td>\n",
       "      <td>7</td>\n",
       "      <td>2</td>\n",
       "      <td>7</td>\n",
       "      <td>3</td>\n",
       "      <td>9</td>\n",
       "      <td>7</td>\n",
       "      <td>10.0</td>\n",
       "      <td>1</td>\n",
       "      <td>33.0</td>\n",
       "      <td>29.0</td>\n",
       "      <td>1</td>\n",
       "      <td>3</td>\n",
       "      <td>5.0</td>\n",
       "      <td>2</td>\n",
       "      <td>1</td>\n",
       "      <td>3.0</td>\n",
       "      <td>2</td>\n",
       "      <td>1</td>\n",
       "      <td>7</td>\n",
       "      <td>1</td>\n",
       "    </tr>\n",
       "    <tr>\n",
       "      <th>9</th>\n",
       "      <td>0.0</td>\n",
       "      <td>0.0</td>\n",
       "      <td>2.0</td>\n",
       "      <td>1</td>\n",
       "      <td>3615.0</td>\n",
       "      <td>17.0</td>\n",
       "      <td>4.0</td>\n",
       "      <td>2</td>\n",
       "      <td>43.0</td>\n",
       "      <td>0.0</td>\n",
       "      <td>2</td>\n",
       "      <td>1.0</td>\n",
       "      <td>9</td>\n",
       "      <td>2</td>\n",
       "      <td>1</td>\n",
       "      <td>2</td>\n",
       "      <td>9</td>\n",
       "      <td>6</td>\n",
       "      <td>1.0</td>\n",
       "      <td>3</td>\n",
       "      <td>10.0</td>\n",
       "      <td>4.0</td>\n",
       "      <td>4</td>\n",
       "      <td>5</td>\n",
       "      <td>3.0</td>\n",
       "      <td>1</td>\n",
       "      <td>0</td>\n",
       "      <td>2.0</td>\n",
       "      <td>8</td>\n",
       "      <td>8</td>\n",
       "      <td>1</td>\n",
       "      <td>0</td>\n",
       "    </tr>\n",
       "  </tbody>\n",
       "</table>\n",
       "</div>"
      ],
      "text/plain": [
       "     V1     V2     V3  V4      V5     V6    V7  V8     V9  V10  V11   V13  \\\n",
       "0   0.0    1.0  243.0  29  4528.0  138.0   3.0  29  201.0  0.0    3  29.0   \n",
       "1   0.0   20.0    8.0  14  4183.0  183.0   4.0  26  156.0  0.0    2  23.0   \n",
       "2  14.0    2.0    2.0   9  1113.0   15.0  37.0  31   78.0  1.0    3   9.0   \n",
       "3   0.0  175.0   17.0  16  4250.0   68.0   8.0  30  152.0  0.0    5  16.0   \n",
       "4   2.0   -1.0    1.0   3     0.0    0.0   2.0   5    6.0  1.0    1   0.0   \n",
       "5   1.0  405.0    1.0   4  1573.0   35.0   2.0   9   35.0  0.0    1   4.0   \n",
       "6   2.0  263.0   14.0  13  1248.0   57.0   2.0  49   49.0  1.0    1  18.0   \n",
       "7   1.0    3.0    2.0  15   567.0   33.0   4.0  33   61.0  1.0    2  15.0   \n",
       "8   0.0    0.0   24.0   6  1552.0   89.0   1.0  18   23.0  0.0    1   6.0   \n",
       "9   0.0    0.0    2.0   1  3615.0   17.0   4.0   2   43.0  0.0    2   1.0   \n",
       "\n",
       "   V19  V22  V30  V33  V35  V36   V40  V41   V42     V43  V45  V47    V50  \\\n",
       "0    7    2    4    0    9    7   4.0    3  14.0   185.0    2    3   71.0   \n",
       "1    3    2    1    3    8    6   9.0    3   5.0    96.0    5    7   20.0   \n",
       "2    4    2    4    3    8    5  16.0    0   3.0     0.0    7    5   11.0   \n",
       "3    7    2    1    2    9    6   0.0    0   8.0    52.0    1    3    0.0   \n",
       "4    4    2    5    3    8    6   6.0    0   6.0  1397.0    1    5    0.0   \n",
       "5    7    2    0    1    9    6   1.0    3   2.0    69.0    1    5    2.0   \n",
       "6    7    2    1    0    9    7  20.0    1  15.0   140.0    1    5  111.0   \n",
       "7    7    2    1    1    1    6  13.0    3   5.0     0.0    1    3   16.0   \n",
       "8    7    2    7    3    9    7  10.0    1  33.0    29.0    1    3    5.0   \n",
       "9    9    2    1    2    9    6   1.0    3  10.0     4.0    4    5    3.0   \n",
       "\n",
       "   V51  V52    V59  V63  V72  V75  class  \n",
       "0    0    0   46.0    1    2    0      1  \n",
       "1    0    2   13.0    9    6    0      1  \n",
       "2    0    0    7.0    9    2    1      0  \n",
       "3    1    1   31.0    6    4    5      1  \n",
       "4    0    0    2.0    8    0    1      1  \n",
       "5    2    1  195.0    8    1    4      1  \n",
       "6    4    1    2.0    6    2    0      1  \n",
       "7    3    1    1.0    6    0    1      1  \n",
       "8    2    1    3.0    2    1    7      1  \n",
       "9    1    0    2.0    8    8    1      0  "
      ]
     },
     "execution_count": 2,
     "metadata": {},
     "output_type": "execute_result"
    }
   ],
   "source": [
    "df = pd.read_csv('/kaggle/input/week4-practice-hackathon-2024/Train.csv')\n",
    "test = pd.read_csv('/kaggle/input/week4-practice-hackathon-2024/Test.csv')\n",
    "pd.set_option('display.max_columns', None)\n",
    "df.head(10) "
   ]
  },
  {
   "cell_type": "markdown",
   "id": "ce834b5b",
   "metadata": {
    "papermill": {
     "duration": 0.006482,
     "end_time": "2024-06-18T12:18:02.300412",
     "exception": false,
     "start_time": "2024-06-18T12:18:02.293930",
     "status": "completed"
    },
    "tags": []
   },
   "source": []
  },
  {
   "cell_type": "code",
   "execution_count": 3,
   "id": "aad7625f",
   "metadata": {
    "execution": {
     "iopub.execute_input": "2024-06-18T12:18:02.315114Z",
     "iopub.status.busy": "2024-06-18T12:18:02.314734Z",
     "iopub.status.idle": "2024-06-18T12:18:02.346001Z",
     "shell.execute_reply": "2024-06-18T12:18:02.344240Z"
    },
    "papermill": {
     "duration": 0.041164,
     "end_time": "2024-06-18T12:18:02.348619",
     "exception": false,
     "start_time": "2024-06-18T12:18:02.307455",
     "status": "completed"
    },
    "tags": []
   },
   "outputs": [
    {
     "name": "stdout",
     "output_type": "stream",
     "text": [
      "<class 'pandas.core.frame.DataFrame'>\n",
      "RangeIndex: 40776 entries, 0 to 40775\n",
      "Data columns (total 32 columns):\n",
      " #   Column  Non-Null Count  Dtype  \n",
      "---  ------  --------------  -----  \n",
      " 0   V1      40776 non-null  float64\n",
      " 1   V2      40776 non-null  float64\n",
      " 2   V3      40776 non-null  float64\n",
      " 3   V4      40776 non-null  int64  \n",
      " 4   V5      40776 non-null  float64\n",
      " 5   V6      40776 non-null  float64\n",
      " 6   V7      40776 non-null  float64\n",
      " 7   V8      40776 non-null  int64  \n",
      " 8   V9      40776 non-null  float64\n",
      " 9   V10     40776 non-null  float64\n",
      " 10  V11     40776 non-null  int64  \n",
      " 11  V13     40776 non-null  float64\n",
      " 12  V19     40776 non-null  int64  \n",
      " 13  V22     40776 non-null  int64  \n",
      " 14  V30     40776 non-null  int64  \n",
      " 15  V33     40776 non-null  int64  \n",
      " 16  V35     40776 non-null  int64  \n",
      " 17  V36     40776 non-null  int64  \n",
      " 18  V40     40776 non-null  float64\n",
      " 19  V41     40776 non-null  int64  \n",
      " 20  V42     40776 non-null  float64\n",
      " 21  V43     40776 non-null  float64\n",
      " 22  V45     40776 non-null  int64  \n",
      " 23  V47     40776 non-null  int64  \n",
      " 24  V50     40776 non-null  float64\n",
      " 25  V51     40776 non-null  int64  \n",
      " 26  V52     40776 non-null  int64  \n",
      " 27  V59     40776 non-null  float64\n",
      " 28  V63     40776 non-null  int64  \n",
      " 29  V72     40776 non-null  int64  \n",
      " 30  V75     40776 non-null  int64  \n",
      " 31  class   40776 non-null  int64  \n",
      "dtypes: float64(14), int64(18)\n",
      "memory usage: 10.0 MB\n"
     ]
    }
   ],
   "source": [
    "df.info()"
   ]
  },
  {
   "cell_type": "code",
   "execution_count": 4,
   "id": "339420c4",
   "metadata": {
    "execution": {
     "iopub.execute_input": "2024-06-18T12:18:02.364106Z",
     "iopub.status.busy": "2024-06-18T12:18:02.363557Z",
     "iopub.status.idle": "2024-06-18T12:18:02.373735Z",
     "shell.execute_reply": "2024-06-18T12:18:02.371912Z"
    },
    "papermill": {
     "duration": 0.022757,
     "end_time": "2024-06-18T12:18:02.377460",
     "exception": false,
     "start_time": "2024-06-18T12:18:02.354703",
     "status": "completed"
    },
    "tags": []
   },
   "outputs": [
    {
     "data": {
      "text/plain": [
       "Index(['V1', 'V2', 'V3', 'V4', 'V5', 'V6', 'V7', 'V8', 'V9', 'V10', 'V11',\n",
       "       'V13', 'V19', 'V22', 'V30', 'V33', 'V35', 'V36', 'V40', 'V41', 'V42',\n",
       "       'V43', 'V45', 'V47', 'V50', 'V51', 'V52', 'V59', 'V63', 'V72', 'V75',\n",
       "       'class'],\n",
       "      dtype='object')"
      ]
     },
     "execution_count": 4,
     "metadata": {},
     "output_type": "execute_result"
    }
   ],
   "source": [
    "df.columns"
   ]
  },
  {
   "cell_type": "code",
   "execution_count": 5,
   "id": "7dbe79ee",
   "metadata": {
    "execution": {
     "iopub.execute_input": "2024-06-18T12:18:02.393123Z",
     "iopub.status.busy": "2024-06-18T12:18:02.392702Z",
     "iopub.status.idle": "2024-06-18T12:18:02.406476Z",
     "shell.execute_reply": "2024-06-18T12:18:02.404165Z"
    },
    "papermill": {
     "duration": 0.025939,
     "end_time": "2024-06-18T12:18:02.410653",
     "exception": false,
     "start_time": "2024-06-18T12:18:02.384714",
     "status": "completed"
    },
    "tags": []
   },
   "outputs": [
    {
     "data": {
      "text/plain": [
       "V1       0\n",
       "V2       0\n",
       "V3       0\n",
       "V4       0\n",
       "V5       0\n",
       "V6       0\n",
       "V7       0\n",
       "V8       0\n",
       "V9       0\n",
       "V10      0\n",
       "V11      0\n",
       "V13      0\n",
       "V19      0\n",
       "V22      0\n",
       "V30      0\n",
       "V33      0\n",
       "V35      0\n",
       "V36      0\n",
       "V40      0\n",
       "V41      0\n",
       "V42      0\n",
       "V43      0\n",
       "V45      0\n",
       "V47      0\n",
       "V50      0\n",
       "V51      0\n",
       "V52      0\n",
       "V59      0\n",
       "V63      0\n",
       "V72      0\n",
       "V75      0\n",
       "class    0\n",
       "dtype: int64"
      ]
     },
     "execution_count": 5,
     "metadata": {},
     "output_type": "execute_result"
    }
   ],
   "source": [
    "df.isnull().sum()"
   ]
  },
  {
   "cell_type": "code",
   "execution_count": 6,
   "id": "63983e81",
   "metadata": {
    "execution": {
     "iopub.execute_input": "2024-06-18T12:18:02.427851Z",
     "iopub.status.busy": "2024-06-18T12:18:02.427431Z",
     "iopub.status.idle": "2024-06-18T12:18:02.439717Z",
     "shell.execute_reply": "2024-06-18T12:18:02.438021Z"
    },
    "papermill": {
     "duration": 0.023625,
     "end_time": "2024-06-18T12:18:02.442769",
     "exception": false,
     "start_time": "2024-06-18T12:18:02.419144",
     "status": "completed"
    },
    "tags": []
   },
   "outputs": [
    {
     "data": {
      "text/plain": [
       "class\n",
       "1    20439\n",
       "0    20337\n",
       "Name: count, dtype: int64"
      ]
     },
     "execution_count": 6,
     "metadata": {},
     "output_type": "execute_result"
    }
   ],
   "source": [
    "df['class'].value_counts()"
   ]
  },
  {
   "cell_type": "code",
   "execution_count": null,
   "id": "a1bc1cc2",
   "metadata": {
    "papermill": {
     "duration": 0.006509,
     "end_time": "2024-06-18T12:18:02.456681",
     "exception": false,
     "start_time": "2024-06-18T12:18:02.450172",
     "status": "completed"
    },
    "tags": []
   },
   "outputs": [],
   "source": []
  },
  {
   "cell_type": "code",
   "execution_count": 7,
   "id": "65bbf36d",
   "metadata": {
    "execution": {
     "iopub.execute_input": "2024-06-18T12:18:02.473237Z",
     "iopub.status.busy": "2024-06-18T12:18:02.472840Z",
     "iopub.status.idle": "2024-06-18T12:18:04.080892Z",
     "shell.execute_reply": "2024-06-18T12:18:04.079568Z"
    },
    "papermill": {
     "duration": 1.619928,
     "end_time": "2024-06-18T12:18:04.083671",
     "exception": false,
     "start_time": "2024-06-18T12:18:02.463743",
     "status": "completed"
    },
    "tags": []
   },
   "outputs": [],
   "source": [
    "import pandas as pd\n",
    "from sklearn.preprocessing import StandardScaler, MinMaxScaler, RobustScaler\n",
    "scalers = {\n",
    "    'StandardScaler': StandardScaler(),\n",
    "    'MinMaxScaler': MinMaxScaler(),\n",
    "    'RobustScaler': RobustScaler()\n",
    "}\n",
    "\n",
    "# Apply the best scaling technique for each column\n",
    "scaled_data = {}\n",
    "for column in df.columns:\n",
    "    if column != 'class':\n",
    "        if df[column].max() - df[column].min() > 1000:\n",
    "            scaler = scalers['MinMaxScaler']\n",
    "        elif df[column].std() > 1:\n",
    "            scaler = scalers['StandardScaler']\n",
    "        else:\n",
    "            scaler = scalers['RobustScaler']\n",
    "        \n",
    "        scaled_data[column] = scaler.fit_transform(df[[column]]).flatten()\n",
    "    else:\n",
    "        scaled_data[column] = df[column]\n",
    "\n",
    "scaled_df = pd.DataFrame(scaled_data)"
   ]
  },
  {
   "cell_type": "code",
   "execution_count": 8,
   "id": "6cec899a",
   "metadata": {
    "execution": {
     "iopub.execute_input": "2024-06-18T12:18:04.100201Z",
     "iopub.status.busy": "2024-06-18T12:18:04.099802Z",
     "iopub.status.idle": "2024-06-18T12:18:04.983537Z",
     "shell.execute_reply": "2024-06-18T12:18:04.982330Z"
    },
    "papermill": {
     "duration": 0.898217,
     "end_time": "2024-06-18T12:18:04.989377",
     "exception": false,
     "start_time": "2024-06-18T12:18:04.091160",
     "status": "completed"
    },
    "tags": []
   },
   "outputs": [
    {
     "name": "stdout",
     "output_type": "stream",
     "text": [
      "Accuracy: 0.6441883276115743\n",
      "Classification Report:\n",
      "               precision    recall  f1-score   support\n",
      "\n",
      "           0       0.65      0.64      0.65      4128\n",
      "           1       0.64      0.65      0.64      4028\n",
      "\n",
      "    accuracy                           0.64      8156\n",
      "   macro avg       0.64      0.64      0.64      8156\n",
      "weighted avg       0.64      0.64      0.64      8156\n",
      "\n"
     ]
    },
    {
     "name": "stderr",
     "output_type": "stream",
     "text": [
      "/opt/conda/lib/python3.10/site-packages/sklearn/linear_model/_logistic.py:458: ConvergenceWarning: lbfgs failed to converge (status=1):\n",
      "STOP: TOTAL NO. of ITERATIONS REACHED LIMIT.\n",
      "\n",
      "Increase the number of iterations (max_iter) or scale the data as shown in:\n",
      "    https://scikit-learn.org/stable/modules/preprocessing.html\n",
      "Please also refer to the documentation for alternative solver options:\n",
      "    https://scikit-learn.org/stable/modules/linear_model.html#logistic-regression\n",
      "  n_iter_i = _check_optimize_result(\n"
     ]
    }
   ],
   "source": [
    "from sklearn.model_selection import train_test_split\n",
    "\n",
    "\n",
    "\n",
    "# Split the data into features and target variable\n",
    "X = scaled_df.drop(columns=['class'])\n",
    "y = scaled_df['class']\n",
    "\n",
    "# Split the dataset into training and testing sets\n",
    "X_train, X_test, y_train, y_test = train_test_split(X, y, test_size=0.2, random_state=42)\n",
    "\n",
    "# After this, you can proceed with training your model\n",
    "# Example with a simple logistic regression model\n",
    "from sklearn.linear_model import LogisticRegression\n",
    "from sklearn.metrics import classification_report, accuracy_score\n",
    "\n",
    "# Initialize the model\n",
    "model = LogisticRegression()\n",
    "\n",
    "# Train the model\n",
    "model.fit(X_train, y_train)\n",
    "\n",
    "# Make predictions\n",
    "y_pred = model.predict(X_test)\n",
    "\n",
    "# Evaluate the model\n",
    "print(\"Accuracy:\", accuracy_score(y_test, y_pred))\n",
    "print(\"Classification Report:\\n\", classification_report(y_test, y_pred))"
   ]
  },
  {
   "cell_type": "code",
   "execution_count": 9,
   "id": "a13e42f4",
   "metadata": {
    "execution": {
     "iopub.execute_input": "2024-06-18T12:18:05.014582Z",
     "iopub.status.busy": "2024-06-18T12:18:05.014045Z",
     "iopub.status.idle": "2024-06-18T12:19:55.542542Z",
     "shell.execute_reply": "2024-06-18T12:19:55.540961Z"
    },
    "papermill": {
     "duration": 110.549741,
     "end_time": "2024-06-18T12:19:55.550872",
     "exception": false,
     "start_time": "2024-06-18T12:18:05.001131",
     "status": "completed"
    },
    "tags": []
   },
   "outputs": [
    {
     "name": "stdout",
     "output_type": "stream",
     "text": [
      "Gradient Boosting Accuracy: 0.6593918587542913\n"
     ]
    }
   ],
   "source": [
    "from sklearn.ensemble import GradientBoostingClassifier\n",
    "from sklearn.metrics import accuracy_score\n",
    "\n",
    "# Create and train the Gradient Boosting classifier\n",
    "gb_classifier = GradientBoostingClassifier(n_estimators=1000, learning_rate=0.1, random_state=42)\n",
    "gb_classifier.fit(X_train, y_train)\n",
    "\n",
    "# Make predictions on the test set\n",
    "y_pred_gb = gb_classifier.predict(X_test)\n",
    "\n",
    "# Calculate accuracy\n",
    "accuracy_gb = accuracy_score(y_test, y_pred_gb)\n",
    "print(\"Gradient Boosting Accuracy:\", accuracy_gb)"
   ]
  },
  {
   "cell_type": "code",
   "execution_count": 10,
   "id": "a4da09ac",
   "metadata": {
    "execution": {
     "iopub.execute_input": "2024-06-18T12:19:55.566010Z",
     "iopub.status.busy": "2024-06-18T12:19:55.565607Z",
     "iopub.status.idle": "2024-06-18T12:19:55.576673Z",
     "shell.execute_reply": "2024-06-18T12:19:55.574574Z"
    },
    "papermill": {
     "duration": 0.02202,
     "end_time": "2024-06-18T12:19:55.579510",
     "exception": false,
     "start_time": "2024-06-18T12:19:55.557490",
     "status": "completed"
    },
    "tags": []
   },
   "outputs": [
    {
     "data": {
      "text/plain": [
       "0        40977\n",
       "1        24157\n",
       "2        56238\n",
       "3        55411\n",
       "4        53175\n",
       "         ...  \n",
       "17471    17197\n",
       "17472    14094\n",
       "17473    34598\n",
       "17474    17845\n",
       "17475    11574\n",
       "Name: Index, Length: 17476, dtype: int64"
      ]
     },
     "execution_count": 10,
     "metadata": {},
     "output_type": "execute_result"
    }
   ],
   "source": [
    "Index = test['Index']\n",
    "Index"
   ]
  },
  {
   "cell_type": "code",
   "execution_count": 11,
   "id": "7d2b1a7b",
   "metadata": {
    "execution": {
     "iopub.execute_input": "2024-06-18T12:19:55.595173Z",
     "iopub.status.busy": "2024-06-18T12:19:55.594768Z",
     "iopub.status.idle": "2024-06-18T12:19:55.601887Z",
     "shell.execute_reply": "2024-06-18T12:19:55.600568Z"
    },
    "papermill": {
     "duration": 0.018019,
     "end_time": "2024-06-18T12:19:55.604433",
     "exception": false,
     "start_time": "2024-06-18T12:19:55.586414",
     "status": "completed"
    },
    "tags": []
   },
   "outputs": [],
   "source": [
    "test.drop(['Index'],axis = 1, inplace =True)"
   ]
  },
  {
   "cell_type": "code",
   "execution_count": 12,
   "id": "c6a4bc1a",
   "metadata": {
    "execution": {
     "iopub.execute_input": "2024-06-18T12:19:55.619527Z",
     "iopub.status.busy": "2024-06-18T12:19:55.619142Z",
     "iopub.status.idle": "2024-06-18T12:19:55.629883Z",
     "shell.execute_reply": "2024-06-18T12:19:55.628675Z"
    },
    "papermill": {
     "duration": 0.022315,
     "end_time": "2024-06-18T12:19:55.633519",
     "exception": false,
     "start_time": "2024-06-18T12:19:55.611204",
     "status": "completed"
    },
    "tags": []
   },
   "outputs": [],
   "source": [
    "y_test_prep = model.predict(test)"
   ]
  },
  {
   "cell_type": "code",
   "execution_count": 13,
   "id": "fba2c5a9",
   "metadata": {
    "execution": {
     "iopub.execute_input": "2024-06-18T12:19:55.659217Z",
     "iopub.status.busy": "2024-06-18T12:19:55.658643Z",
     "iopub.status.idle": "2024-06-18T12:19:55.665890Z",
     "shell.execute_reply": "2024-06-18T12:19:55.664383Z"
    },
    "papermill": {
     "duration": 0.024892,
     "end_time": "2024-06-18T12:19:55.669445",
     "exception": false,
     "start_time": "2024-06-18T12:19:55.644553",
     "status": "completed"
    },
    "tags": []
   },
   "outputs": [],
   "source": [
    "sample_submission = pd.DataFrame({\n",
    "    'Index': Index,\n",
    "    'class': y_test_prep\n",
    "})"
   ]
  },
  {
   "cell_type": "code",
   "execution_count": 14,
   "id": "0867801e",
   "metadata": {
    "execution": {
     "iopub.execute_input": "2024-06-18T12:19:55.695870Z",
     "iopub.status.busy": "2024-06-18T12:19:55.695356Z",
     "iopub.status.idle": "2024-06-18T12:19:55.713448Z",
     "shell.execute_reply": "2024-06-18T12:19:55.712326Z"
    },
    "papermill": {
     "duration": 0.03506,
     "end_time": "2024-06-18T12:19:55.716579",
     "exception": false,
     "start_time": "2024-06-18T12:19:55.681519",
     "status": "completed"
    },
    "tags": []
   },
   "outputs": [
    {
     "data": {
      "text/html": [
       "<div>\n",
       "<style scoped>\n",
       "    .dataframe tbody tr th:only-of-type {\n",
       "        vertical-align: middle;\n",
       "    }\n",
       "\n",
       "    .dataframe tbody tr th {\n",
       "        vertical-align: top;\n",
       "    }\n",
       "\n",
       "    .dataframe thead th {\n",
       "        text-align: right;\n",
       "    }\n",
       "</style>\n",
       "<table border=\"1\" class=\"dataframe\">\n",
       "  <thead>\n",
       "    <tr style=\"text-align: right;\">\n",
       "      <th></th>\n",
       "      <th>Index</th>\n",
       "      <th>class</th>\n",
       "    </tr>\n",
       "  </thead>\n",
       "  <tbody>\n",
       "    <tr>\n",
       "      <th>0</th>\n",
       "      <td>40977</td>\n",
       "      <td>1</td>\n",
       "    </tr>\n",
       "    <tr>\n",
       "      <th>1</th>\n",
       "      <td>24157</td>\n",
       "      <td>0</td>\n",
       "    </tr>\n",
       "    <tr>\n",
       "      <th>2</th>\n",
       "      <td>56238</td>\n",
       "      <td>1</td>\n",
       "    </tr>\n",
       "    <tr>\n",
       "      <th>3</th>\n",
       "      <td>55411</td>\n",
       "      <td>1</td>\n",
       "    </tr>\n",
       "    <tr>\n",
       "      <th>4</th>\n",
       "      <td>53175</td>\n",
       "      <td>1</td>\n",
       "    </tr>\n",
       "    <tr>\n",
       "      <th>...</th>\n",
       "      <td>...</td>\n",
       "      <td>...</td>\n",
       "    </tr>\n",
       "    <tr>\n",
       "      <th>17471</th>\n",
       "      <td>17197</td>\n",
       "      <td>1</td>\n",
       "    </tr>\n",
       "    <tr>\n",
       "      <th>17472</th>\n",
       "      <td>14094</td>\n",
       "      <td>0</td>\n",
       "    </tr>\n",
       "    <tr>\n",
       "      <th>17473</th>\n",
       "      <td>34598</td>\n",
       "      <td>1</td>\n",
       "    </tr>\n",
       "    <tr>\n",
       "      <th>17474</th>\n",
       "      <td>17845</td>\n",
       "      <td>1</td>\n",
       "    </tr>\n",
       "    <tr>\n",
       "      <th>17475</th>\n",
       "      <td>11574</td>\n",
       "      <td>0</td>\n",
       "    </tr>\n",
       "  </tbody>\n",
       "</table>\n",
       "<p>17476 rows × 2 columns</p>\n",
       "</div>"
      ],
      "text/plain": [
       "       Index  class\n",
       "0      40977      1\n",
       "1      24157      0\n",
       "2      56238      1\n",
       "3      55411      1\n",
       "4      53175      1\n",
       "...      ...    ...\n",
       "17471  17197      1\n",
       "17472  14094      0\n",
       "17473  34598      1\n",
       "17474  17845      1\n",
       "17475  11574      0\n",
       "\n",
       "[17476 rows x 2 columns]"
      ]
     },
     "execution_count": 14,
     "metadata": {},
     "output_type": "execute_result"
    }
   ],
   "source": [
    "sample_submission"
   ]
  },
  {
   "cell_type": "code",
   "execution_count": 15,
   "id": "aedd0ccd",
   "metadata": {
    "execution": {
     "iopub.execute_input": "2024-06-18T12:19:55.747516Z",
     "iopub.status.busy": "2024-06-18T12:19:55.746910Z",
     "iopub.status.idle": "2024-06-18T12:19:55.769994Z",
     "shell.execute_reply": "2024-06-18T12:19:55.768807Z"
    },
    "papermill": {
     "duration": 0.040732,
     "end_time": "2024-06-18T12:19:55.772801",
     "exception": false,
     "start_time": "2024-06-18T12:19:55.732069",
     "status": "completed"
    },
    "tags": []
   },
   "outputs": [],
   "source": [
    "sample_submission.to_csv(\"submission.csv\", index=False) #(for making submission file)"
   ]
  },
  {
   "cell_type": "code",
   "execution_count": null,
   "id": "6577de77",
   "metadata": {
    "papermill": {
     "duration": 0.007605,
     "end_time": "2024-06-18T12:19:55.788348",
     "exception": false,
     "start_time": "2024-06-18T12:19:55.780743",
     "status": "completed"
    },
    "tags": []
   },
   "outputs": [],
   "source": []
  },
  {
   "cell_type": "code",
   "execution_count": null,
   "id": "8f57debd",
   "metadata": {
    "papermill": {
     "duration": 0.006684,
     "end_time": "2024-06-18T12:19:55.802562",
     "exception": false,
     "start_time": "2024-06-18T12:19:55.795878",
     "status": "completed"
    },
    "tags": []
   },
   "outputs": [],
   "source": []
  },
  {
   "cell_type": "code",
   "execution_count": null,
   "id": "cf9718e6",
   "metadata": {
    "papermill": {
     "duration": 0.006643,
     "end_time": "2024-06-18T12:19:55.816125",
     "exception": false,
     "start_time": "2024-06-18T12:19:55.809482",
     "status": "completed"
    },
    "tags": []
   },
   "outputs": [],
   "source": []
  },
  {
   "cell_type": "markdown",
   "id": "6a768950",
   "metadata": {
    "papermill": {
     "duration": 0.006582,
     "end_time": "2024-06-18T12:19:55.829709",
     "exception": false,
     "start_time": "2024-06-18T12:19:55.823127",
     "status": "completed"
    },
    "tags": []
   },
   "source": []
  },
  {
   "cell_type": "code",
   "execution_count": null,
   "id": "fd3f95b9",
   "metadata": {
    "papermill": {
     "duration": 0.00658,
     "end_time": "2024-06-18T12:19:55.843178",
     "exception": false,
     "start_time": "2024-06-18T12:19:55.836598",
     "status": "completed"
    },
    "tags": []
   },
   "outputs": [],
   "source": []
  }
 ],
 "metadata": {
  "kaggle": {
   "accelerator": "none",
   "dataSources": [
    {
     "databundleVersionId": 8809707,
     "sourceId": 81427,
     "sourceType": "competition"
    }
   ],
   "dockerImageVersionId": 30732,
   "isGpuEnabled": false,
   "isInternetEnabled": true,
   "language": "python",
   "sourceType": "notebook"
  },
  "kernelspec": {
   "display_name": "Python 3",
   "language": "python",
   "name": "python3"
  },
  "language_info": {
   "codemirror_mode": {
    "name": "ipython",
    "version": 3
   },
   "file_extension": ".py",
   "mimetype": "text/x-python",
   "name": "python",
   "nbconvert_exporter": "python",
   "pygments_lexer": "ipython3",
   "version": "3.10.13"
  },
  "papermill": {
   "default_parameters": {},
   "duration": 118.707504,
   "end_time": "2024-06-18T12:19:56.473177",
   "environment_variables": {},
   "exception": null,
   "input_path": "__notebook__.ipynb",
   "output_path": "__notebook__.ipynb",
   "parameters": {},
   "start_time": "2024-06-18T12:17:57.765673",
   "version": "2.5.0"
  }
 },
 "nbformat": 4,
 "nbformat_minor": 5
}
